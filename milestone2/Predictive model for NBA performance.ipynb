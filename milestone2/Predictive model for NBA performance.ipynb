{
 "cells": [
  {
   "cell_type": "code",
   "execution_count": 27,
   "metadata": {},
   "outputs": [],
   "source": [
    "import numpy as np\n",
    "import pandas as pd\n",
    "from sklearn.preprocessing import OneHotEncoder\n",
    "from sklearn.model_selection import GridSearchCV, train_test_split, cross_val_score\n",
    "from sklearn.ensemble import RandomForestRegressor\n",
    "from sklearn.metrics import mean_squared_error\n",
    "from plotnine import *"
   ]
  },
  {
   "cell_type": "markdown",
   "metadata": {},
   "source": [
    "# Cleaning NBA and NCAA data"
   ]
  },
  {
   "cell_type": "code",
   "execution_count": 2,
   "metadata": {
    "collapsed": true
   },
   "outputs": [],
   "source": [
    "df_draft_raw = pd.read_csv(\"../data/draft.csv\", index_col=0)"
   ]
  },
  {
   "cell_type": "code",
   "execution_count": 3,
   "metadata": {},
   "outputs": [],
   "source": [
    "df_draft = (df_draft_raw.rename(columns={'Lg': 'league', 'Rd': 'round', \n",
    "                                         'Pk': 'pick', 'Tm': 'team', 'Pos': 'position'})\n",
    "              .assign(Player = lambda x: x.Player.str.split('\\\\').str.get(0)))\n",
    "df_draft.columns = df_draft.columns.str.lower()"
   ]
  },
  {
   "cell_type": "code",
   "execution_count": 4,
   "metadata": {},
   "outputs": [
    {
     "data": {
      "text/html": [
       "<div>\n",
       "<style>\n",
       "    .dataframe thead tr:only-child th {\n",
       "        text-align: right;\n",
       "    }\n",
       "\n",
       "    .dataframe thead th {\n",
       "        text-align: left;\n",
       "    }\n",
       "\n",
       "    .dataframe tbody tr th {\n",
       "        vertical-align: top;\n",
       "    }\n",
       "</style>\n",
       "<table border=\"1\" class=\"dataframe\">\n",
       "  <thead>\n",
       "    <tr style=\"text-align: right;\">\n",
       "      <th></th>\n",
       "      <th>year</th>\n",
       "      <th>league</th>\n",
       "      <th>round</th>\n",
       "      <th>pick</th>\n",
       "      <th>team</th>\n",
       "      <th>player</th>\n",
       "      <th>age</th>\n",
       "      <th>position</th>\n",
       "      <th>born</th>\n",
       "      <th>college</th>\n",
       "    </tr>\n",
       "    <tr>\n",
       "      <th>Rk</th>\n",
       "      <th></th>\n",
       "      <th></th>\n",
       "      <th></th>\n",
       "      <th></th>\n",
       "      <th></th>\n",
       "      <th></th>\n",
       "      <th></th>\n",
       "      <th></th>\n",
       "      <th></th>\n",
       "      <th></th>\n",
       "    </tr>\n",
       "  </thead>\n",
       "  <tbody>\n",
       "    <tr>\n",
       "      <th>1</th>\n",
       "      <td>2016</td>\n",
       "      <td>NBA</td>\n",
       "      <td>1</td>\n",
       "      <td>1</td>\n",
       "      <td>PHI</td>\n",
       "      <td>Ben Simmons</td>\n",
       "      <td>19.343</td>\n",
       "      <td>G-F</td>\n",
       "      <td>au</td>\n",
       "      <td>Louisiana State University</td>\n",
       "    </tr>\n",
       "    <tr>\n",
       "      <th>2</th>\n",
       "      <td>2016</td>\n",
       "      <td>NBA</td>\n",
       "      <td>1</td>\n",
       "      <td>2</td>\n",
       "      <td>LAL</td>\n",
       "      <td>Brandon Ingram</td>\n",
       "      <td>18.299</td>\n",
       "      <td>F</td>\n",
       "      <td>us</td>\n",
       "      <td>Duke University</td>\n",
       "    </tr>\n",
       "    <tr>\n",
       "      <th>3</th>\n",
       "      <td>2016</td>\n",
       "      <td>NBA</td>\n",
       "      <td>1</td>\n",
       "      <td>3</td>\n",
       "      <td>BOS</td>\n",
       "      <td>Jaylen Brown</td>\n",
       "      <td>19.247</td>\n",
       "      <td>F-G</td>\n",
       "      <td>us</td>\n",
       "      <td>University of California</td>\n",
       "    </tr>\n",
       "    <tr>\n",
       "      <th>4</th>\n",
       "      <td>2016</td>\n",
       "      <td>NBA</td>\n",
       "      <td>1</td>\n",
       "      <td>4</td>\n",
       "      <td>PHO</td>\n",
       "      <td>Dragan Bender</td>\n",
       "      <td>18.223</td>\n",
       "      <td>F</td>\n",
       "      <td>ba</td>\n",
       "      <td>NaN</td>\n",
       "    </tr>\n",
       "    <tr>\n",
       "      <th>5</th>\n",
       "      <td>2016</td>\n",
       "      <td>NBA</td>\n",
       "      <td>1</td>\n",
       "      <td>5</td>\n",
       "      <td>MIN</td>\n",
       "      <td>Kris Dunn</td>\n",
       "      <td>22.103</td>\n",
       "      <td>G</td>\n",
       "      <td>us</td>\n",
       "      <td>Providence College</td>\n",
       "    </tr>\n",
       "  </tbody>\n",
       "</table>\n",
       "</div>"
      ],
      "text/plain": [
       "    year league  round  pick team          player     age position born  \\\n",
       "Rk                                                                        \n",
       "1   2016    NBA      1     1  PHI     Ben Simmons  19.343      G-F   au   \n",
       "2   2016    NBA      1     2  LAL  Brandon Ingram  18.299        F   us   \n",
       "3   2016    NBA      1     3  BOS    Jaylen Brown  19.247      F-G   us   \n",
       "4   2016    NBA      1     4  PHO   Dragan Bender  18.223        F   ba   \n",
       "5   2016    NBA      1     5  MIN       Kris Dunn  22.103        G   us   \n",
       "\n",
       "                       college  \n",
       "Rk                              \n",
       "1   Louisiana State University  \n",
       "2              Duke University  \n",
       "3     University of California  \n",
       "4                          NaN  \n",
       "5           Providence College  "
      ]
     },
     "execution_count": 4,
     "metadata": {},
     "output_type": "execute_result"
    }
   ],
   "source": [
    "df_draft.head()"
   ]
  },
  {
   "cell_type": "code",
   "execution_count": 5,
   "metadata": {
    "collapsed": true
   },
   "outputs": [],
   "source": [
    "df_nba_raw = pd.read_csv(\"../data/nbarookiedata.csv\", skiprows=1, index_col=0)"
   ]
  },
  {
   "cell_type": "code",
   "execution_count": 6,
   "metadata": {},
   "outputs": [],
   "source": [
    "df_nba = (df_nba_raw\n",
    "             .assign(Player = lambda x: x.Player.str.split('\\\\').str.get(0),\n",
    "                     Season = lambda x: pd.to_numeric(x.Season.str.split('-').str.get(0)))\n",
    "             [['Player', 'Tm', 'Season', 'PTS', 'TRB', 'AST', 'STL', 'BLK']]\n",
    "             .rename(columns={'Player': 'player', 'Tm': 'team', 'Season': 'year', \n",
    "                              'PTS': 'point', 'TRB': 'rebound', 'AST': 'assist',\n",
    "                              'STL': 'steal', 'BLK': 'block'}))"
   ]
  },
  {
   "cell_type": "code",
   "execution_count": 7,
   "metadata": {},
   "outputs": [
    {
     "data": {
      "text/html": [
       "<div>\n",
       "<style>\n",
       "    .dataframe thead tr:only-child th {\n",
       "        text-align: right;\n",
       "    }\n",
       "\n",
       "    .dataframe thead th {\n",
       "        text-align: left;\n",
       "    }\n",
       "\n",
       "    .dataframe tbody tr th {\n",
       "        vertical-align: top;\n",
       "    }\n",
       "</style>\n",
       "<table border=\"1\" class=\"dataframe\">\n",
       "  <thead>\n",
       "    <tr style=\"text-align: right;\">\n",
       "      <th></th>\n",
       "      <th>player</th>\n",
       "      <th>team</th>\n",
       "      <th>year</th>\n",
       "      <th>point</th>\n",
       "      <th>rebound</th>\n",
       "      <th>assist</th>\n",
       "      <th>steal</th>\n",
       "      <th>block</th>\n",
       "    </tr>\n",
       "    <tr>\n",
       "      <th>Rk</th>\n",
       "      <th></th>\n",
       "      <th></th>\n",
       "      <th></th>\n",
       "      <th></th>\n",
       "      <th></th>\n",
       "      <th></th>\n",
       "      <th></th>\n",
       "      <th></th>\n",
       "    </tr>\n",
       "  </thead>\n",
       "  <tbody>\n",
       "    <tr>\n",
       "      <th>1</th>\n",
       "      <td>Alex Abrines</td>\n",
       "      <td>OKC</td>\n",
       "      <td>2016</td>\n",
       "      <td>6.0</td>\n",
       "      <td>1.3</td>\n",
       "      <td>0.6</td>\n",
       "      <td>0.5</td>\n",
       "      <td>0.1</td>\n",
       "    </tr>\n",
       "    <tr>\n",
       "      <th>2</th>\n",
       "      <td>Ron Baker</td>\n",
       "      <td>NYK</td>\n",
       "      <td>2016</td>\n",
       "      <td>4.1</td>\n",
       "      <td>1.9</td>\n",
       "      <td>2.1</td>\n",
       "      <td>0.7</td>\n",
       "      <td>0.2</td>\n",
       "    </tr>\n",
       "    <tr>\n",
       "      <th>3</th>\n",
       "      <td>Wade Baldwin</td>\n",
       "      <td>MEM</td>\n",
       "      <td>2016</td>\n",
       "      <td>3.2</td>\n",
       "      <td>1.4</td>\n",
       "      <td>1.8</td>\n",
       "      <td>0.5</td>\n",
       "      <td>0.2</td>\n",
       "    </tr>\n",
       "    <tr>\n",
       "      <th>4</th>\n",
       "      <td>Malik Beasley</td>\n",
       "      <td>DEN</td>\n",
       "      <td>2016</td>\n",
       "      <td>3.8</td>\n",
       "      <td>0.8</td>\n",
       "      <td>0.5</td>\n",
       "      <td>0.3</td>\n",
       "      <td>0.0</td>\n",
       "    </tr>\n",
       "    <tr>\n",
       "      <th>5</th>\n",
       "      <td>DeAndre' Bembry</td>\n",
       "      <td>ATL</td>\n",
       "      <td>2016</td>\n",
       "      <td>2.7</td>\n",
       "      <td>1.6</td>\n",
       "      <td>0.7</td>\n",
       "      <td>0.2</td>\n",
       "      <td>0.1</td>\n",
       "    </tr>\n",
       "  </tbody>\n",
       "</table>\n",
       "</div>"
      ],
      "text/plain": [
       "             player team  year  point  rebound  assist  steal  block\n",
       "Rk                                                                  \n",
       "1      Alex Abrines  OKC  2016    6.0      1.3     0.6    0.5    0.1\n",
       "2         Ron Baker  NYK  2016    4.1      1.9     2.1    0.7    0.2\n",
       "3      Wade Baldwin  MEM  2016    3.2      1.4     1.8    0.5    0.2\n",
       "4     Malik Beasley  DEN  2016    3.8      0.8     0.5    0.3    0.0\n",
       "5   DeAndre' Bembry  ATL  2016    2.7      1.6     0.7    0.2    0.1"
      ]
     },
     "execution_count": 7,
     "metadata": {},
     "output_type": "execute_result"
    }
   ],
   "source": [
    "df_nba.head()"
   ]
  },
  {
   "cell_type": "code",
   "execution_count": 8,
   "metadata": {},
   "outputs": [],
   "source": [
    "df_final = pd.merge(df_draft, df_nba, how='left', on=['player', 'team', 'year'])"
   ]
  },
  {
   "cell_type": "code",
   "execution_count": 9,
   "metadata": {},
   "outputs": [
    {
     "data": {
      "text/html": [
       "<div>\n",
       "<style>\n",
       "    .dataframe thead tr:only-child th {\n",
       "        text-align: right;\n",
       "    }\n",
       "\n",
       "    .dataframe thead th {\n",
       "        text-align: left;\n",
       "    }\n",
       "\n",
       "    .dataframe tbody tr th {\n",
       "        vertical-align: top;\n",
       "    }\n",
       "</style>\n",
       "<table border=\"1\" class=\"dataframe\">\n",
       "  <thead>\n",
       "    <tr style=\"text-align: right;\">\n",
       "      <th></th>\n",
       "      <th>year</th>\n",
       "      <th>league</th>\n",
       "      <th>round</th>\n",
       "      <th>pick</th>\n",
       "      <th>team</th>\n",
       "      <th>player</th>\n",
       "      <th>age</th>\n",
       "      <th>position</th>\n",
       "      <th>born</th>\n",
       "      <th>college</th>\n",
       "      <th>point</th>\n",
       "      <th>rebound</th>\n",
       "      <th>assist</th>\n",
       "      <th>steal</th>\n",
       "      <th>block</th>\n",
       "    </tr>\n",
       "  </thead>\n",
       "  <tbody>\n",
       "    <tr>\n",
       "      <th>0</th>\n",
       "      <td>2016</td>\n",
       "      <td>NBA</td>\n",
       "      <td>1</td>\n",
       "      <td>1</td>\n",
       "      <td>PHI</td>\n",
       "      <td>Ben Simmons</td>\n",
       "      <td>19.343</td>\n",
       "      <td>G-F</td>\n",
       "      <td>au</td>\n",
       "      <td>Louisiana State University</td>\n",
       "      <td>NaN</td>\n",
       "      <td>NaN</td>\n",
       "      <td>NaN</td>\n",
       "      <td>NaN</td>\n",
       "      <td>NaN</td>\n",
       "    </tr>\n",
       "    <tr>\n",
       "      <th>1</th>\n",
       "      <td>2016</td>\n",
       "      <td>NBA</td>\n",
       "      <td>1</td>\n",
       "      <td>2</td>\n",
       "      <td>LAL</td>\n",
       "      <td>Brandon Ingram</td>\n",
       "      <td>18.299</td>\n",
       "      <td>F</td>\n",
       "      <td>us</td>\n",
       "      <td>Duke University</td>\n",
       "      <td>9.4</td>\n",
       "      <td>4.0</td>\n",
       "      <td>2.1</td>\n",
       "      <td>0.6</td>\n",
       "      <td>0.5</td>\n",
       "    </tr>\n",
       "    <tr>\n",
       "      <th>2</th>\n",
       "      <td>2016</td>\n",
       "      <td>NBA</td>\n",
       "      <td>1</td>\n",
       "      <td>3</td>\n",
       "      <td>BOS</td>\n",
       "      <td>Jaylen Brown</td>\n",
       "      <td>19.247</td>\n",
       "      <td>F-G</td>\n",
       "      <td>us</td>\n",
       "      <td>University of California</td>\n",
       "      <td>6.6</td>\n",
       "      <td>2.8</td>\n",
       "      <td>0.8</td>\n",
       "      <td>0.4</td>\n",
       "      <td>0.2</td>\n",
       "    </tr>\n",
       "    <tr>\n",
       "      <th>3</th>\n",
       "      <td>2016</td>\n",
       "      <td>NBA</td>\n",
       "      <td>1</td>\n",
       "      <td>4</td>\n",
       "      <td>PHO</td>\n",
       "      <td>Dragan Bender</td>\n",
       "      <td>18.223</td>\n",
       "      <td>F</td>\n",
       "      <td>ba</td>\n",
       "      <td>NaN</td>\n",
       "      <td>3.4</td>\n",
       "      <td>2.4</td>\n",
       "      <td>0.5</td>\n",
       "      <td>0.2</td>\n",
       "      <td>0.5</td>\n",
       "    </tr>\n",
       "    <tr>\n",
       "      <th>4</th>\n",
       "      <td>2016</td>\n",
       "      <td>NBA</td>\n",
       "      <td>1</td>\n",
       "      <td>5</td>\n",
       "      <td>MIN</td>\n",
       "      <td>Kris Dunn</td>\n",
       "      <td>22.103</td>\n",
       "      <td>G</td>\n",
       "      <td>us</td>\n",
       "      <td>Providence College</td>\n",
       "      <td>3.8</td>\n",
       "      <td>2.1</td>\n",
       "      <td>2.4</td>\n",
       "      <td>1.0</td>\n",
       "      <td>0.5</td>\n",
       "    </tr>\n",
       "  </tbody>\n",
       "</table>\n",
       "</div>"
      ],
      "text/plain": [
       "   year league  round  pick team          player     age position born  \\\n",
       "0  2016    NBA      1     1  PHI     Ben Simmons  19.343      G-F   au   \n",
       "1  2016    NBA      1     2  LAL  Brandon Ingram  18.299        F   us   \n",
       "2  2016    NBA      1     3  BOS    Jaylen Brown  19.247      F-G   us   \n",
       "3  2016    NBA      1     4  PHO   Dragan Bender  18.223        F   ba   \n",
       "4  2016    NBA      1     5  MIN       Kris Dunn  22.103        G   us   \n",
       "\n",
       "                      college  point  rebound  assist  steal  block  \n",
       "0  Louisiana State University    NaN      NaN     NaN    NaN    NaN  \n",
       "1             Duke University    9.4      4.0     2.1    0.6    0.5  \n",
       "2    University of California    6.6      2.8     0.8    0.4    0.2  \n",
       "3                         NaN    3.4      2.4     0.5    0.2    0.5  \n",
       "4          Providence College    3.8      2.1     2.4    1.0    0.5  "
      ]
     },
     "execution_count": 9,
     "metadata": {},
     "output_type": "execute_result"
    }
   ],
   "source": [
    "# There are a lot of players drafted but don't appear in the NBA dataset, why?\n",
    "df_final.head()"
   ]
  },
  {
   "cell_type": "code",
   "execution_count": 10,
   "metadata": {
    "collapsed": true
   },
   "outputs": [],
   "source": [
    "df_ncaa_raw = pd.read_csv('../data/ncaa2.csv', index_col=0)"
   ]
  },
  {
   "cell_type": "code",
   "execution_count": 11,
   "metadata": {},
   "outputs": [
    {
     "data": {
      "text/plain": [
       "Index(['Name', 'Team', 'GP', 'Min', 'Pts', 'FG', 'FGA', 'FG%', '2Pt', '2PtA',\n",
       "       '2P%', '3Pt', '3PtA', '3P%', 'FTM', 'FTA', 'FT%', 'Off', 'Def', 'TOT',\n",
       "       'Asts', 'Stls', 'Blks', 'TOs', 'PFs', 'year', 'PTs/g', 'FGA/g',\n",
       "       'Pts/Play', 'TS%', 'eFG%', 'FTA/FGA', '3PA/FGA', 'Ast/g', 'Ast/FGA',\n",
       "       'A/TO', 'PPR', 'BK/g', 'STL/g', 'PF/g'],\n",
       "      dtype='object')"
      ]
     },
     "execution_count": 11,
     "metadata": {},
     "output_type": "execute_result"
    }
   ],
   "source": [
    "df_ncaa_raw.columns"
   ]
  },
  {
   "cell_type": "code",
   "execution_count": 12,
   "metadata": {},
   "outputs": [],
   "source": [
    "df_ncaa = (df_ncaa_raw\n",
    "              [['Name', 'Team', 'year', 'Pts', 'TOT', 'Asts', 'Stls', 'Blks']]\n",
    "              .rename(columns={'Name': 'player', 'Team': 'college', 'year': 'col_year',\n",
    "                               'Pts': 'col_point', 'TOT': 'col_rebound', 'Asts': 'col_assist',\n",
    "                               'Stls': 'col_steal', 'Blks': 'col_block'}))"
   ]
  },
  {
   "cell_type": "code",
   "execution_count": 13,
   "metadata": {},
   "outputs": [
    {
     "data": {
      "text/html": [
       "<div>\n",
       "<style>\n",
       "    .dataframe thead tr:only-child th {\n",
       "        text-align: right;\n",
       "    }\n",
       "\n",
       "    .dataframe thead th {\n",
       "        text-align: left;\n",
       "    }\n",
       "\n",
       "    .dataframe tbody tr th {\n",
       "        vertical-align: top;\n",
       "    }\n",
       "</style>\n",
       "<table border=\"1\" class=\"dataframe\">\n",
       "  <thead>\n",
       "    <tr style=\"text-align: right;\">\n",
       "      <th></th>\n",
       "      <th>player</th>\n",
       "      <th>college</th>\n",
       "      <th>col_year</th>\n",
       "      <th>col_point</th>\n",
       "      <th>col_rebound</th>\n",
       "      <th>col_assist</th>\n",
       "      <th>col_steal</th>\n",
       "      <th>col_block</th>\n",
       "    </tr>\n",
       "  </thead>\n",
       "  <tbody>\n",
       "    <tr>\n",
       "      <th>0</th>\n",
       "      <td>Luis Rivas</td>\n",
       "      <td>Western Illinois</td>\n",
       "      <td>2002</td>\n",
       "      <td>27.9</td>\n",
       "      <td>10.7</td>\n",
       "      <td>0.0</td>\n",
       "      <td>0.0</td>\n",
       "      <td>0.5</td>\n",
       "    </tr>\n",
       "    <tr>\n",
       "      <th>1</th>\n",
       "      <td>Steve Reynolds</td>\n",
       "      <td>Western Michigan</td>\n",
       "      <td>2002</td>\n",
       "      <td>27.8</td>\n",
       "      <td>6.5</td>\n",
       "      <td>2.0</td>\n",
       "      <td>1.2</td>\n",
       "      <td>0.1</td>\n",
       "    </tr>\n",
       "    <tr>\n",
       "      <th>2</th>\n",
       "      <td>Michael Watson</td>\n",
       "      <td>UMKC</td>\n",
       "      <td>2002</td>\n",
       "      <td>24.9</td>\n",
       "      <td>3.6</td>\n",
       "      <td>3.2</td>\n",
       "      <td>2.1</td>\n",
       "      <td>0.2</td>\n",
       "    </tr>\n",
       "    <tr>\n",
       "      <th>3</th>\n",
       "      <td>Tyrone Hayes</td>\n",
       "      <td>Idaho</td>\n",
       "      <td>2002</td>\n",
       "      <td>34.3</td>\n",
       "      <td>12.3</td>\n",
       "      <td>0.0</td>\n",
       "      <td>2.5</td>\n",
       "      <td>2.5</td>\n",
       "    </tr>\n",
       "    <tr>\n",
       "      <th>4</th>\n",
       "      <td>Travis Robinson</td>\n",
       "      <td>Jacksonville</td>\n",
       "      <td>2002</td>\n",
       "      <td>27.4</td>\n",
       "      <td>7.5</td>\n",
       "      <td>1.1</td>\n",
       "      <td>1.9</td>\n",
       "      <td>0.3</td>\n",
       "    </tr>\n",
       "  </tbody>\n",
       "</table>\n",
       "</div>"
      ],
      "text/plain": [
       "            player           college  col_year  col_point  col_rebound  \\\n",
       "0       Luis Rivas  Western Illinois      2002       27.9         10.7   \n",
       "1   Steve Reynolds  Western Michigan      2002       27.8          6.5   \n",
       "2   Michael Watson              UMKC      2002       24.9          3.6   \n",
       "3     Tyrone Hayes             Idaho      2002       34.3         12.3   \n",
       "4  Travis Robinson      Jacksonville      2002       27.4          7.5   \n",
       "\n",
       "   col_assist  col_steal  col_block  \n",
       "0         0.0        0.0        0.5  \n",
       "1         2.0        1.2        0.1  \n",
       "2         3.2        2.1        0.2  \n",
       "3         0.0        2.5        2.5  \n",
       "4         1.1        1.9        0.3  "
      ]
     },
     "execution_count": 13,
     "metadata": {},
     "output_type": "execute_result"
    }
   ],
   "source": [
    "df_ncaa.head()"
   ]
  },
  {
   "cell_type": "code",
   "execution_count": 14,
   "metadata": {},
   "outputs": [],
   "source": [
    "df_final = pd.merge(df_final, df_ncaa, how='inner', on=['player'])"
   ]
  },
  {
   "cell_type": "code",
   "execution_count": null,
   "metadata": {},
   "outputs": [],
   "source": []
  },
  {
   "cell_type": "code",
   "execution_count": 15,
   "metadata": {},
   "outputs": [],
   "source": [
    "# Only keep the last year of college performance\n",
    "df_final = (df_final.groupby('player')\n",
    "        .apply(lambda df: df.sort_values(by='col_year', ascending=False).iloc[0, :]))"
   ]
  },
  {
   "cell_type": "code",
   "execution_count": 16,
   "metadata": {},
   "outputs": [
    {
     "name": "stdout",
     "output_type": "stream",
     "text": [
      "Number of unique players: 613\n"
     ]
    }
   ],
   "source": [
    "print(\"Number of unique players: {}\".format(len(pd.unique(df_final.player))))"
   ]
  },
  {
   "cell_type": "markdown",
   "metadata": {},
   "source": [
    "# Model building"
   ]
  },
  {
   "cell_type": "code",
   "execution_count": 17,
   "metadata": {},
   "outputs": [],
   "source": [
    "df_final = df_final.dropna()\n",
    "X = df_final[['round', 'pick', 'position',\n",
    "              'col_point', 'col_rebound', 'col_assist', 'col_steal', 'col_block']]\n",
    "X = pd.get_dummies(X, columns=['position'])\n",
    "y = df_final['point']"
   ]
  },
  {
   "cell_type": "code",
   "execution_count": 18,
   "metadata": {},
   "outputs": [],
   "source": [
    "X_train, X_test, y_train, y_test = train_test_split(X, y, test_size = 0.2)"
   ]
  },
  {
   "cell_type": "markdown",
   "metadata": {},
   "source": [
    "## Random Forest Regression"
   ]
  },
  {
   "cell_type": "code",
   "execution_count": 19,
   "metadata": {},
   "outputs": [],
   "source": [
    "rf = RandomForestRegressor(criterion='mse', n_jobs=-1)"
   ]
  },
  {
   "cell_type": "markdown",
   "metadata": {},
   "source": [
    "## Tuning and choosing the best hyperparams"
   ]
  },
  {
   "cell_type": "code",
   "execution_count": 20,
   "metadata": {},
   "outputs": [
    {
     "data": {
      "text/plain": [
       "GridSearchCV(cv=10, error_score='raise',\n",
       "       estimator=RandomForestRegressor(bootstrap=True, criterion='mse', max_depth=None,\n",
       "           max_features='auto', max_leaf_nodes=None,\n",
       "           min_impurity_decrease=0.0, min_impurity_split=None,\n",
       "           min_samples_leaf=1, min_samples_split=2,\n",
       "           min_weight_fraction_leaf=0.0, n_estimators=10, n_jobs=-1,\n",
       "           oob_score=False, random_state=None, verbose=0, warm_start=False),\n",
       "       fit_params=None, iid=True, n_jobs=1,\n",
       "       param_grid=[{'n_estimators': [100, 1000, 1000], 'min_samples_leaf': [1, 10, 100]}],\n",
       "       pre_dispatch='2*n_jobs', refit=True, return_train_score=True,\n",
       "       scoring='neg_mean_squared_error', verbose=0)"
      ]
     },
     "execution_count": 20,
     "metadata": {},
     "output_type": "execute_result"
    }
   ],
   "source": [
    "gs = GridSearchCV(estimator=rf, \n",
    "                  param_grid=[{'n_estimators': [100, 1000, 1000],\n",
    "                               'min_samples_leaf': [1, 10, 100]}],\n",
    "                  cv=10, scoring='neg_mean_squared_error')\n",
    "gs.fit(X_train, y_train)"
   ]
  },
  {
   "cell_type": "code",
   "execution_count": 21,
   "metadata": {},
   "outputs": [
    {
     "name": "stdout",
     "output_type": "stream",
     "text": [
      "{'min_samples_leaf': 10, 'n_estimators': 1000}\n"
     ]
    },
    {
     "data": {
      "text/plain": [
       "RandomForestRegressor(bootstrap=True, criterion='mse', max_depth=None,\n",
       "           max_features='auto', max_leaf_nodes=None,\n",
       "           min_impurity_decrease=0.0, min_impurity_split=None,\n",
       "           min_samples_leaf=10, min_samples_split=2,\n",
       "           min_weight_fraction_leaf=0.0, n_estimators=1000, n_jobs=-1,\n",
       "           oob_score=False, random_state=None, verbose=0, warm_start=False)"
      ]
     },
     "execution_count": 21,
     "metadata": {},
     "output_type": "execute_result"
    }
   ],
   "source": [
    "print(gs.best_params_)\n",
    "best_rf = gs.best_estimator_\n",
    "best_rf.fit(X_train, y_train)"
   ]
  },
  {
   "cell_type": "markdown",
   "metadata": {},
   "source": [
    "## Model performance evaluation"
   ]
  },
  {
   "cell_type": "code",
   "execution_count": 26,
   "metadata": {},
   "outputs": [
    {
     "name": "stdout",
     "output_type": "stream",
     "text": [
      "Min / Median / Max of Point: 0.0 4.6 21.0\n",
      "Train MSE: 6.798; Test MSE: 9.499\n"
     ]
    }
   ],
   "source": [
    "print(\"Min / Median / Max of Point: {} {} {}\".format(np.min(df_final.point),\n",
    "                                                   np.median(df_final.point),\n",
    "                                                   np.max(df_final.point)))\n",
    "print(\"Train MSE: {:.3f}; Test MSE: {:.3f}\".format(mean_squared_error(y_train, best_rf.predict(X_train)),\n",
    "                                                 mean_squared_error(y_test, best_rf.predict(X_test))))"
   ]
  },
  {
   "cell_type": "markdown",
   "metadata": {},
   "source": [
    "The Train MSE is lower than Test MSE substantially, so it seems like our model overfits the training data. Also the error is substantial given that the median point scored is only 4.6.\n",
    "\n",
    "We will build better model, potentially including team statistics along with individual statistics."
   ]
  },
  {
   "cell_type": "code",
   "execution_count": null,
   "metadata": {
    "collapsed": true
   },
   "outputs": [],
   "source": []
  }
 ],
 "metadata": {
  "kernelspec": {
   "display_name": "Python 3",
   "language": "python",
   "name": "python3"
  },
  "language_info": {
   "codemirror_mode": {
    "name": "ipython",
    "version": 3
   },
   "file_extension": ".py",
   "mimetype": "text/x-python",
   "name": "python",
   "nbconvert_exporter": "python",
   "pygments_lexer": "ipython3",
   "version": "3.6.2"
  }
 },
 "nbformat": 4,
 "nbformat_minor": 2
}
