{
 "cells": [
  {
   "cell_type": "code",
   "execution_count": 1,
   "metadata": {},
   "outputs": [
    {
     "name": "stderr",
     "output_type": "stream",
     "text": [
      "/Users/anh/miniconda3/lib/python3.6/site-packages/statsmodels/compat/pandas.py:56: FutureWarning: The pandas.core.datetools module is deprecated and will be removed in a future version. Please use the pandas.tseries module instead.\n",
      "  from pandas.core import datetools\n"
     ]
    }
   ],
   "source": [
    "import numpy as np\n",
    "import pandas as pd\n",
    "from sklearn.preprocessing import OneHotEncoder\n",
    "from sklearn.model_selection import GridSearchCV, train_test_split, cross_val_score\n",
    "from sklearn.ensemble import RandomForestRegressor\n",
    "from sklearn.neighbors import KNeighborsRegressor\n",
    "from sklearn.metrics import mean_squared_error\n",
    "\n",
    "import seaborn as sns\n",
    "import matplotlib.pyplot as plt\n",
    "%matplotlib inline\n",
    "from plotnine import *\n",
    "\n",
    "import pickle\n",
    "import os"
   ]
  },
  {
   "cell_type": "markdown",
   "metadata": {},
   "source": [
    "# Cleaning NBA and NCAA data"
   ]
  },
  {
   "cell_type": "markdown",
   "metadata": {},
   "source": [
    "## Draft data"
   ]
  },
  {
   "cell_type": "code",
   "execution_count": 2,
   "metadata": {
    "collapsed": true
   },
   "outputs": [],
   "source": [
    "df_draft_raw = pd.read_csv(\"../data/draft.csv\", index_col=0)"
   ]
  },
  {
   "cell_type": "code",
   "execution_count": 3,
   "metadata": {
    "collapsed": true
   },
   "outputs": [],
   "source": [
    "df_draft = (df_draft_raw\n",
    "                .rename(columns={'Year': 'draft_year', 'Lg': 'league', 'Rd': 'round', \n",
    "                                         'Pk': 'pick', 'Tm': 'draft_team', 'Pos': 'position'})\n",
    "                .assign(Player = lambda x: x.Player.str.split('\\\\').str.get(0)))\n",
    "df_draft.columns = df_draft.columns.str.lower()"
   ]
  },
  {
   "cell_type": "code",
   "execution_count": 4,
   "metadata": {},
   "outputs": [
    {
     "data": {
      "text/html": [
       "<div>\n",
       "<style scoped>\n",
       "    .dataframe tbody tr th:only-of-type {\n",
       "        vertical-align: middle;\n",
       "    }\n",
       "\n",
       "    .dataframe tbody tr th {\n",
       "        vertical-align: top;\n",
       "    }\n",
       "\n",
       "    .dataframe thead th {\n",
       "        text-align: right;\n",
       "    }\n",
       "</style>\n",
       "<table border=\"1\" class=\"dataframe\">\n",
       "  <thead>\n",
       "    <tr style=\"text-align: right;\">\n",
       "      <th></th>\n",
       "      <th>draft_year</th>\n",
       "      <th>league</th>\n",
       "      <th>round</th>\n",
       "      <th>pick</th>\n",
       "      <th>draft_team</th>\n",
       "      <th>player</th>\n",
       "      <th>age</th>\n",
       "      <th>position</th>\n",
       "      <th>born</th>\n",
       "      <th>college</th>\n",
       "    </tr>\n",
       "    <tr>\n",
       "      <th>Rk</th>\n",
       "      <th></th>\n",
       "      <th></th>\n",
       "      <th></th>\n",
       "      <th></th>\n",
       "      <th></th>\n",
       "      <th></th>\n",
       "      <th></th>\n",
       "      <th></th>\n",
       "      <th></th>\n",
       "      <th></th>\n",
       "    </tr>\n",
       "  </thead>\n",
       "  <tbody>\n",
       "    <tr>\n",
       "      <th>1</th>\n",
       "      <td>2016</td>\n",
       "      <td>NBA</td>\n",
       "      <td>1</td>\n",
       "      <td>1</td>\n",
       "      <td>PHI</td>\n",
       "      <td>Ben Simmons</td>\n",
       "      <td>19.343</td>\n",
       "      <td>G-F</td>\n",
       "      <td>au</td>\n",
       "      <td>Louisiana State University</td>\n",
       "    </tr>\n",
       "    <tr>\n",
       "      <th>2</th>\n",
       "      <td>2016</td>\n",
       "      <td>NBA</td>\n",
       "      <td>1</td>\n",
       "      <td>2</td>\n",
       "      <td>LAL</td>\n",
       "      <td>Brandon Ingram</td>\n",
       "      <td>18.299</td>\n",
       "      <td>F</td>\n",
       "      <td>us</td>\n",
       "      <td>Duke University</td>\n",
       "    </tr>\n",
       "    <tr>\n",
       "      <th>3</th>\n",
       "      <td>2016</td>\n",
       "      <td>NBA</td>\n",
       "      <td>1</td>\n",
       "      <td>3</td>\n",
       "      <td>BOS</td>\n",
       "      <td>Jaylen Brown</td>\n",
       "      <td>19.247</td>\n",
       "      <td>F-G</td>\n",
       "      <td>us</td>\n",
       "      <td>University of California</td>\n",
       "    </tr>\n",
       "    <tr>\n",
       "      <th>4</th>\n",
       "      <td>2016</td>\n",
       "      <td>NBA</td>\n",
       "      <td>1</td>\n",
       "      <td>4</td>\n",
       "      <td>PHO</td>\n",
       "      <td>Dragan Bender</td>\n",
       "      <td>18.223</td>\n",
       "      <td>F</td>\n",
       "      <td>ba</td>\n",
       "      <td>NaN</td>\n",
       "    </tr>\n",
       "    <tr>\n",
       "      <th>5</th>\n",
       "      <td>2016</td>\n",
       "      <td>NBA</td>\n",
       "      <td>1</td>\n",
       "      <td>5</td>\n",
       "      <td>MIN</td>\n",
       "      <td>Kris Dunn</td>\n",
       "      <td>22.103</td>\n",
       "      <td>G</td>\n",
       "      <td>us</td>\n",
       "      <td>Providence College</td>\n",
       "    </tr>\n",
       "  </tbody>\n",
       "</table>\n",
       "</div>"
      ],
      "text/plain": [
       "    draft_year league  round  pick draft_team          player     age  \\\n",
       "Rk                                                                      \n",
       "1         2016    NBA      1     1        PHI     Ben Simmons  19.343   \n",
       "2         2016    NBA      1     2        LAL  Brandon Ingram  18.299   \n",
       "3         2016    NBA      1     3        BOS    Jaylen Brown  19.247   \n",
       "4         2016    NBA      1     4        PHO   Dragan Bender  18.223   \n",
       "5         2016    NBA      1     5        MIN       Kris Dunn  22.103   \n",
       "\n",
       "   position born                     college  \n",
       "Rk                                            \n",
       "1       G-F   au  Louisiana State University  \n",
       "2         F   us             Duke University  \n",
       "3       F-G   us    University of California  \n",
       "4         F   ba                         NaN  \n",
       "5         G   us          Providence College  "
      ]
     },
     "execution_count": 4,
     "metadata": {},
     "output_type": "execute_result"
    }
   ],
   "source": [
    "df_draft.head()"
   ]
  },
  {
   "cell_type": "code",
   "execution_count": 5,
   "metadata": {},
   "outputs": [
    {
     "name": "stdout",
     "output_type": "stream",
     "text": [
      "There are 19 years, 37 teams, 1122 players\n"
     ]
    }
   ],
   "source": [
    "print(\"There are {} years, {} teams, {} players\".format(len(pd.unique(df_draft.draft_year)),\n",
    "                                                        len(pd.unique(df_draft.draft_team)), \n",
    "                                                        len(pd.unique(df_draft.player))))"
   ]
  },
  {
   "cell_type": "markdown",
   "metadata": {},
   "source": [
    "There are players who are not drafted form any college. They mostly are non-US players."
   ]
  },
  {
   "cell_type": "code",
   "execution_count": 6,
   "metadata": {},
   "outputs": [
    {
     "data": {
      "text/html": [
       "<div>\n",
       "<style scoped>\n",
       "    .dataframe tbody tr th:only-of-type {\n",
       "        vertical-align: middle;\n",
       "    }\n",
       "\n",
       "    .dataframe tbody tr th {\n",
       "        vertical-align: top;\n",
       "    }\n",
       "\n",
       "    .dataframe thead th {\n",
       "        text-align: right;\n",
       "    }\n",
       "</style>\n",
       "<table border=\"1\" class=\"dataframe\">\n",
       "  <thead>\n",
       "    <tr style=\"text-align: right;\">\n",
       "      <th></th>\n",
       "      <th>draft_year</th>\n",
       "      <th>league</th>\n",
       "      <th>round</th>\n",
       "      <th>pick</th>\n",
       "      <th>draft_team</th>\n",
       "      <th>player</th>\n",
       "      <th>age</th>\n",
       "      <th>position</th>\n",
       "      <th>born</th>\n",
       "      <th>college</th>\n",
       "    </tr>\n",
       "    <tr>\n",
       "      <th>Rk</th>\n",
       "      <th></th>\n",
       "      <th></th>\n",
       "      <th></th>\n",
       "      <th></th>\n",
       "      <th></th>\n",
       "      <th></th>\n",
       "      <th></th>\n",
       "      <th></th>\n",
       "      <th></th>\n",
       "      <th></th>\n",
       "    </tr>\n",
       "  </thead>\n",
       "  <tbody>\n",
       "    <tr>\n",
       "      <th>4</th>\n",
       "      <td>2016</td>\n",
       "      <td>NBA</td>\n",
       "      <td>1</td>\n",
       "      <td>4</td>\n",
       "      <td>PHO</td>\n",
       "      <td>Dragan Bender</td>\n",
       "      <td>18.223</td>\n",
       "      <td>F</td>\n",
       "      <td>ba</td>\n",
       "      <td>NaN</td>\n",
       "    </tr>\n",
       "    <tr>\n",
       "      <th>10</th>\n",
       "      <td>2016</td>\n",
       "      <td>NBA</td>\n",
       "      <td>1</td>\n",
       "      <td>10</td>\n",
       "      <td>MIL</td>\n",
       "      <td>Thon Maker</td>\n",
       "      <td>19.123</td>\n",
       "      <td>F-C</td>\n",
       "      <td>ss</td>\n",
       "      <td>NaN</td>\n",
       "    </tr>\n",
       "    <tr>\n",
       "      <th>13</th>\n",
       "      <td>2016</td>\n",
       "      <td>NBA</td>\n",
       "      <td>1</td>\n",
       "      <td>13</td>\n",
       "      <td>PHO</td>\n",
       "      <td>Georgios Papagiannis</td>\n",
       "      <td>18.360</td>\n",
       "      <td>C</td>\n",
       "      <td>gr</td>\n",
       "      <td>NaN</td>\n",
       "    </tr>\n",
       "    <tr>\n",
       "      <th>15</th>\n",
       "      <td>2016</td>\n",
       "      <td>NBA</td>\n",
       "      <td>1</td>\n",
       "      <td>15</td>\n",
       "      <td>DEN</td>\n",
       "      <td>Juan Hernangomez</td>\n",
       "      <td>20.274</td>\n",
       "      <td>F</td>\n",
       "      <td>es</td>\n",
       "      <td>NaN</td>\n",
       "    </tr>\n",
       "    <tr>\n",
       "      <th>16</th>\n",
       "      <td>2016</td>\n",
       "      <td>NBA</td>\n",
       "      <td>1</td>\n",
       "      <td>16</td>\n",
       "      <td>BOS</td>\n",
       "      <td>Guerschon Yabusele</td>\n",
       "      <td>20.194</td>\n",
       "      <td>F</td>\n",
       "      <td>fr</td>\n",
       "      <td>NaN</td>\n",
       "    </tr>\n",
       "  </tbody>\n",
       "</table>\n",
       "</div>"
      ],
      "text/plain": [
       "    draft_year league  round  pick draft_team                player     age  \\\n",
       "Rk                                                                            \n",
       "4         2016    NBA      1     4        PHO         Dragan Bender  18.223   \n",
       "10        2016    NBA      1    10        MIL            Thon Maker  19.123   \n",
       "13        2016    NBA      1    13        PHO  Georgios Papagiannis  18.360   \n",
       "15        2016    NBA      1    15        DEN      Juan Hernangomez  20.274   \n",
       "16        2016    NBA      1    16        BOS    Guerschon Yabusele  20.194   \n",
       "\n",
       "   position born college  \n",
       "Rk                        \n",
       "4         F   ba     NaN  \n",
       "10      F-C   ss     NaN  \n",
       "13        C   gr     NaN  \n",
       "15        F   es     NaN  \n",
       "16        F   fr     NaN  "
      ]
     },
     "execution_count": 6,
     "metadata": {},
     "output_type": "execute_result"
    }
   ],
   "source": [
    "df_draft.loc[pd.isnull(df_draft.college), :].head()"
   ]
  },
  {
   "cell_type": "markdown",
   "metadata": {},
   "source": [
    "Player names are unique, and ~60 are drafted each year. The number of colleges are different across years because some players are not drafted from college (e.g. from high school, from other countries.)"
   ]
  },
  {
   "cell_type": "code",
   "execution_count": 7,
   "metadata": {},
   "outputs": [
    {
     "data": {
      "text/html": [
       "<div>\n",
       "<style scoped>\n",
       "    .dataframe tbody tr th:only-of-type {\n",
       "        vertical-align: middle;\n",
       "    }\n",
       "\n",
       "    .dataframe tbody tr th {\n",
       "        vertical-align: top;\n",
       "    }\n",
       "\n",
       "    .dataframe thead tr th {\n",
       "        text-align: left;\n",
       "    }\n",
       "\n",
       "    .dataframe thead tr:last-of-type th {\n",
       "        text-align: right;\n",
       "    }\n",
       "</style>\n",
       "<table border=\"1\" class=\"dataframe\">\n",
       "  <thead>\n",
       "    <tr>\n",
       "      <th></th>\n",
       "      <th colspan=\"2\" halign=\"left\">player</th>\n",
       "      <th colspan=\"2\" halign=\"left\">college</th>\n",
       "    </tr>\n",
       "    <tr>\n",
       "      <th></th>\n",
       "      <th>count</th>\n",
       "      <th>nunique</th>\n",
       "      <th>count</th>\n",
       "      <th>nunique</th>\n",
       "    </tr>\n",
       "    <tr>\n",
       "      <th>draft_year</th>\n",
       "      <th></th>\n",
       "      <th></th>\n",
       "      <th></th>\n",
       "      <th></th>\n",
       "    </tr>\n",
       "  </thead>\n",
       "  <tbody>\n",
       "    <tr>\n",
       "      <th>1998</th>\n",
       "      <td>58</td>\n",
       "      <td>58</td>\n",
       "      <td>50</td>\n",
       "      <td>39</td>\n",
       "    </tr>\n",
       "    <tr>\n",
       "      <th>1999</th>\n",
       "      <td>58</td>\n",
       "      <td>58</td>\n",
       "      <td>51</td>\n",
       "      <td>45</td>\n",
       "    </tr>\n",
       "    <tr>\n",
       "      <th>2000</th>\n",
       "      <td>58</td>\n",
       "      <td>58</td>\n",
       "      <td>47</td>\n",
       "      <td>36</td>\n",
       "    </tr>\n",
       "    <tr>\n",
       "      <th>2001</th>\n",
       "      <td>57</td>\n",
       "      <td>57</td>\n",
       "      <td>45</td>\n",
       "      <td>35</td>\n",
       "    </tr>\n",
       "    <tr>\n",
       "      <th>2002</th>\n",
       "      <td>57</td>\n",
       "      <td>57</td>\n",
       "      <td>42</td>\n",
       "      <td>32</td>\n",
       "    </tr>\n",
       "    <tr>\n",
       "      <th>2003</th>\n",
       "      <td>58</td>\n",
       "      <td>58</td>\n",
       "      <td>33</td>\n",
       "      <td>31</td>\n",
       "    </tr>\n",
       "    <tr>\n",
       "      <th>2004</th>\n",
       "      <td>59</td>\n",
       "      <td>59</td>\n",
       "      <td>37</td>\n",
       "      <td>33</td>\n",
       "    </tr>\n",
       "    <tr>\n",
       "      <th>2005</th>\n",
       "      <td>60</td>\n",
       "      <td>60</td>\n",
       "      <td>37</td>\n",
       "      <td>32</td>\n",
       "    </tr>\n",
       "    <tr>\n",
       "      <th>2006</th>\n",
       "      <td>60</td>\n",
       "      <td>60</td>\n",
       "      <td>44</td>\n",
       "      <td>30</td>\n",
       "    </tr>\n",
       "    <tr>\n",
       "      <th>2007</th>\n",
       "      <td>60</td>\n",
       "      <td>60</td>\n",
       "      <td>47</td>\n",
       "      <td>35</td>\n",
       "    </tr>\n",
       "    <tr>\n",
       "      <th>2008</th>\n",
       "      <td>60</td>\n",
       "      <td>60</td>\n",
       "      <td>49</td>\n",
       "      <td>35</td>\n",
       "    </tr>\n",
       "    <tr>\n",
       "      <th>2009</th>\n",
       "      <td>60</td>\n",
       "      <td>60</td>\n",
       "      <td>48</td>\n",
       "      <td>35</td>\n",
       "    </tr>\n",
       "    <tr>\n",
       "      <th>2010</th>\n",
       "      <td>60</td>\n",
       "      <td>60</td>\n",
       "      <td>53</td>\n",
       "      <td>40</td>\n",
       "    </tr>\n",
       "    <tr>\n",
       "      <th>2011</th>\n",
       "      <td>60</td>\n",
       "      <td>60</td>\n",
       "      <td>46</td>\n",
       "      <td>34</td>\n",
       "    </tr>\n",
       "    <tr>\n",
       "      <th>2012</th>\n",
       "      <td>60</td>\n",
       "      <td>60</td>\n",
       "      <td>51</td>\n",
       "      <td>31</td>\n",
       "    </tr>\n",
       "    <tr>\n",
       "      <th>2013</th>\n",
       "      <td>60</td>\n",
       "      <td>60</td>\n",
       "      <td>47</td>\n",
       "      <td>40</td>\n",
       "    </tr>\n",
       "    <tr>\n",
       "      <th>2014</th>\n",
       "      <td>60</td>\n",
       "      <td>60</td>\n",
       "      <td>46</td>\n",
       "      <td>32</td>\n",
       "    </tr>\n",
       "    <tr>\n",
       "      <th>2015</th>\n",
       "      <td>60</td>\n",
       "      <td>60</td>\n",
       "      <td>46</td>\n",
       "      <td>32</td>\n",
       "    </tr>\n",
       "    <tr>\n",
       "      <th>2016</th>\n",
       "      <td>60</td>\n",
       "      <td>60</td>\n",
       "      <td>44</td>\n",
       "      <td>31</td>\n",
       "    </tr>\n",
       "  </tbody>\n",
       "</table>\n",
       "</div>"
      ],
      "text/plain": [
       "           player         college        \n",
       "            count nunique   count nunique\n",
       "draft_year                               \n",
       "1998           58      58      50      39\n",
       "1999           58      58      51      45\n",
       "2000           58      58      47      36\n",
       "2001           57      57      45      35\n",
       "2002           57      57      42      32\n",
       "2003           58      58      33      31\n",
       "2004           59      59      37      33\n",
       "2005           60      60      37      32\n",
       "2006           60      60      44      30\n",
       "2007           60      60      47      35\n",
       "2008           60      60      49      35\n",
       "2009           60      60      48      35\n",
       "2010           60      60      53      40\n",
       "2011           60      60      46      34\n",
       "2012           60      60      51      31\n",
       "2013           60      60      47      40\n",
       "2014           60      60      46      32\n",
       "2015           60      60      46      32\n",
       "2016           60      60      44      31"
      ]
     },
     "execution_count": 7,
     "metadata": {},
     "output_type": "execute_result"
    }
   ],
   "source": [
    "df_draft.groupby('draft_year')['player', 'college'].agg(['count', 'nunique'])"
   ]
  },
  {
   "cell_type": "markdown",
   "metadata": {},
   "source": [
    "## NBA rookie data"
   ]
  },
  {
   "cell_type": "code",
   "execution_count": 8,
   "metadata": {
    "collapsed": true
   },
   "outputs": [],
   "source": [
    "df_nba_raw = pd.read_csv(\"../data/nbarookiedata.csv\", skiprows=1, index_col=0)"
   ]
  },
  {
   "cell_type": "code",
   "execution_count": 9,
   "metadata": {
    "collapsed": true
   },
   "outputs": [],
   "source": [
    "df_nba = (df_nba_raw\n",
    "             .assign(Player = lambda x: x.Player.str.split('\\\\').str.get(0),\n",
    "                     Season = lambda x: pd.to_numeric(x.Season.str.split('-').str.get(0)))\n",
    "             [['Player', 'Tm', 'Season', 'PTS', 'TRB', 'AST', 'STL', 'BLK']]\n",
    "             .rename(columns={'Player': 'player', 'Tm': 'rookie_team', 'Season': 'rookie_year', \n",
    "                              'PTS': 'point', 'TRB': 'rebound', 'AST': 'assist',\n",
    "                              'STL': 'steal', 'BLK': 'block'}))"
   ]
  },
  {
   "cell_type": "code",
   "execution_count": 10,
   "metadata": {},
   "outputs": [
    {
     "data": {
      "text/html": [
       "<div>\n",
       "<style scoped>\n",
       "    .dataframe tbody tr th:only-of-type {\n",
       "        vertical-align: middle;\n",
       "    }\n",
       "\n",
       "    .dataframe tbody tr th {\n",
       "        vertical-align: top;\n",
       "    }\n",
       "\n",
       "    .dataframe thead th {\n",
       "        text-align: right;\n",
       "    }\n",
       "</style>\n",
       "<table border=\"1\" class=\"dataframe\">\n",
       "  <thead>\n",
       "    <tr style=\"text-align: right;\">\n",
       "      <th></th>\n",
       "      <th>player</th>\n",
       "      <th>rookie_team</th>\n",
       "      <th>rookie_year</th>\n",
       "      <th>point</th>\n",
       "      <th>rebound</th>\n",
       "      <th>assist</th>\n",
       "      <th>steal</th>\n",
       "      <th>block</th>\n",
       "    </tr>\n",
       "    <tr>\n",
       "      <th>Rk</th>\n",
       "      <th></th>\n",
       "      <th></th>\n",
       "      <th></th>\n",
       "      <th></th>\n",
       "      <th></th>\n",
       "      <th></th>\n",
       "      <th></th>\n",
       "      <th></th>\n",
       "    </tr>\n",
       "  </thead>\n",
       "  <tbody>\n",
       "    <tr>\n",
       "      <th>1</th>\n",
       "      <td>Alex Abrines</td>\n",
       "      <td>OKC</td>\n",
       "      <td>2016</td>\n",
       "      <td>6.0</td>\n",
       "      <td>1.3</td>\n",
       "      <td>0.6</td>\n",
       "      <td>0.5</td>\n",
       "      <td>0.1</td>\n",
       "    </tr>\n",
       "    <tr>\n",
       "      <th>2</th>\n",
       "      <td>Ron Baker</td>\n",
       "      <td>NYK</td>\n",
       "      <td>2016</td>\n",
       "      <td>4.1</td>\n",
       "      <td>1.9</td>\n",
       "      <td>2.1</td>\n",
       "      <td>0.7</td>\n",
       "      <td>0.2</td>\n",
       "    </tr>\n",
       "    <tr>\n",
       "      <th>3</th>\n",
       "      <td>Wade Baldwin</td>\n",
       "      <td>MEM</td>\n",
       "      <td>2016</td>\n",
       "      <td>3.2</td>\n",
       "      <td>1.4</td>\n",
       "      <td>1.8</td>\n",
       "      <td>0.5</td>\n",
       "      <td>0.2</td>\n",
       "    </tr>\n",
       "    <tr>\n",
       "      <th>4</th>\n",
       "      <td>Malik Beasley</td>\n",
       "      <td>DEN</td>\n",
       "      <td>2016</td>\n",
       "      <td>3.8</td>\n",
       "      <td>0.8</td>\n",
       "      <td>0.5</td>\n",
       "      <td>0.3</td>\n",
       "      <td>0.0</td>\n",
       "    </tr>\n",
       "    <tr>\n",
       "      <th>5</th>\n",
       "      <td>DeAndre' Bembry</td>\n",
       "      <td>ATL</td>\n",
       "      <td>2016</td>\n",
       "      <td>2.7</td>\n",
       "      <td>1.6</td>\n",
       "      <td>0.7</td>\n",
       "      <td>0.2</td>\n",
       "      <td>0.1</td>\n",
       "    </tr>\n",
       "  </tbody>\n",
       "</table>\n",
       "</div>"
      ],
      "text/plain": [
       "             player rookie_team  rookie_year  point  rebound  assist  steal  \\\n",
       "Rk                                                                            \n",
       "1      Alex Abrines         OKC         2016    6.0      1.3     0.6    0.5   \n",
       "2         Ron Baker         NYK         2016    4.1      1.9     2.1    0.7   \n",
       "3      Wade Baldwin         MEM         2016    3.2      1.4     1.8    0.5   \n",
       "4     Malik Beasley         DEN         2016    3.8      0.8     0.5    0.3   \n",
       "5   DeAndre' Bembry         ATL         2016    2.7      1.6     0.7    0.2   \n",
       "\n",
       "    block  \n",
       "Rk         \n",
       "1     0.1  \n",
       "2     0.2  \n",
       "3     0.2  \n",
       "4     0.0  \n",
       "5     0.1  "
      ]
     },
     "execution_count": 10,
     "metadata": {},
     "output_type": "execute_result"
    }
   ],
   "source": [
    "df_nba.head()"
   ]
  },
  {
   "cell_type": "markdown",
   "metadata": {},
   "source": [
    "## Merge NBA draft and rookie"
   ]
  },
  {
   "cell_type": "code",
   "execution_count": 11,
   "metadata": {
    "collapsed": true
   },
   "outputs": [],
   "source": [
    "# We merge the draft and the rookie NBA data based on player name only\n",
    "# NOT based on team and year, because a player can be drafted for a team in a year\n",
    "# and then becomes the rookie for another team in another year (due to trade, injuries, etc.)\n",
    "df_final = pd.merge(df_draft, df_nba, how='left', on=['player'])"
   ]
  },
  {
   "cell_type": "code",
   "execution_count": 12,
   "metadata": {},
   "outputs": [
    {
     "data": {
      "text/plain": [
       "(278, 17)"
      ]
     },
     "execution_count": 12,
     "metadata": {},
     "output_type": "execute_result"
    }
   ],
   "source": [
    "# There are a lot of players drafted but don't appear in the NBA dataset\n",
    "# Reasons: Injuries so never play, get moved to another league\n",
    "df_final.loc[pd.isnull(df_final.point), :].shape"
   ]
  },
  {
   "cell_type": "code",
   "execution_count": 13,
   "metadata": {},
   "outputs": [
    {
     "data": {
      "text/plain": [
       "draft_year\n",
       "1998    53\n",
       "1999    51\n",
       "2000     8\n",
       "2001     8\n",
       "2002     9\n",
       "2003    11\n",
       "2004    13\n",
       "2005     6\n",
       "2006     8\n",
       "2007    11\n",
       "2008    10\n",
       "2009    12\n",
       "2010     9\n",
       "2011     6\n",
       "2012     5\n",
       "2013     9\n",
       "2014    12\n",
       "2015    19\n",
       "2016    18\n",
       "Name: player, dtype: int64"
      ]
     },
     "execution_count": 13,
     "metadata": {},
     "output_type": "execute_result"
    }
   ],
   "source": [
    "# Number of missingness by year\n",
    "df_final.loc[pd.isnull(df_final.point), :].groupby('draft_year')['player'].agg('count')"
   ]
  },
  {
   "cell_type": "markdown",
   "metadata": {},
   "source": [
    "## NCAA performance"
   ]
  },
  {
   "cell_type": "code",
   "execution_count": 14,
   "metadata": {
    "collapsed": true
   },
   "outputs": [],
   "source": [
    "df_ncaa_raw = pd.read_csv('../data/ncaa2.csv', index_col=0)"
   ]
  },
  {
   "cell_type": "code",
   "execution_count": 15,
   "metadata": {
    "collapsed": true
   },
   "outputs": [],
   "source": [
    "df_ncaa = (df_ncaa_raw\n",
    "              [['Name', 'Team', 'year', 'Pts', 'TOT', 'Asts', 'Stls', 'Blks']]\n",
    "              .rename(columns={'Name': 'player', 'Team': 'college', 'year': 'col_year',\n",
    "                               'Pts': 'col_point', 'TOT': 'col_rebound', 'Asts': 'col_assist',\n",
    "                               'Stls': 'col_steal', 'Blks': 'col_block'}))"
   ]
  },
  {
   "cell_type": "code",
   "execution_count": 16,
   "metadata": {},
   "outputs": [
    {
     "data": {
      "text/html": [
       "<div>\n",
       "<style scoped>\n",
       "    .dataframe tbody tr th:only-of-type {\n",
       "        vertical-align: middle;\n",
       "    }\n",
       "\n",
       "    .dataframe tbody tr th {\n",
       "        vertical-align: top;\n",
       "    }\n",
       "\n",
       "    .dataframe thead th {\n",
       "        text-align: right;\n",
       "    }\n",
       "</style>\n",
       "<table border=\"1\" class=\"dataframe\">\n",
       "  <thead>\n",
       "    <tr style=\"text-align: right;\">\n",
       "      <th></th>\n",
       "      <th>player</th>\n",
       "      <th>college</th>\n",
       "      <th>col_year</th>\n",
       "      <th>col_point</th>\n",
       "      <th>col_rebound</th>\n",
       "      <th>col_assist</th>\n",
       "      <th>col_steal</th>\n",
       "      <th>col_block</th>\n",
       "    </tr>\n",
       "  </thead>\n",
       "  <tbody>\n",
       "    <tr>\n",
       "      <th>0</th>\n",
       "      <td>Luis Rivas</td>\n",
       "      <td>Western Illinois</td>\n",
       "      <td>2002</td>\n",
       "      <td>27.9</td>\n",
       "      <td>10.7</td>\n",
       "      <td>0.0</td>\n",
       "      <td>0.0</td>\n",
       "      <td>0.5</td>\n",
       "    </tr>\n",
       "    <tr>\n",
       "      <th>1</th>\n",
       "      <td>Steve Reynolds</td>\n",
       "      <td>Western Michigan</td>\n",
       "      <td>2002</td>\n",
       "      <td>27.8</td>\n",
       "      <td>6.5</td>\n",
       "      <td>2.0</td>\n",
       "      <td>1.2</td>\n",
       "      <td>0.1</td>\n",
       "    </tr>\n",
       "    <tr>\n",
       "      <th>2</th>\n",
       "      <td>Michael Watson</td>\n",
       "      <td>UMKC</td>\n",
       "      <td>2002</td>\n",
       "      <td>24.9</td>\n",
       "      <td>3.6</td>\n",
       "      <td>3.2</td>\n",
       "      <td>2.1</td>\n",
       "      <td>0.2</td>\n",
       "    </tr>\n",
       "    <tr>\n",
       "      <th>3</th>\n",
       "      <td>Tyrone Hayes</td>\n",
       "      <td>Idaho</td>\n",
       "      <td>2002</td>\n",
       "      <td>34.3</td>\n",
       "      <td>12.3</td>\n",
       "      <td>0.0</td>\n",
       "      <td>2.5</td>\n",
       "      <td>2.5</td>\n",
       "    </tr>\n",
       "    <tr>\n",
       "      <th>4</th>\n",
       "      <td>Travis Robinson</td>\n",
       "      <td>Jacksonville</td>\n",
       "      <td>2002</td>\n",
       "      <td>27.4</td>\n",
       "      <td>7.5</td>\n",
       "      <td>1.1</td>\n",
       "      <td>1.9</td>\n",
       "      <td>0.3</td>\n",
       "    </tr>\n",
       "  </tbody>\n",
       "</table>\n",
       "</div>"
      ],
      "text/plain": [
       "            player           college  col_year  col_point  col_rebound  \\\n",
       "0       Luis Rivas  Western Illinois      2002       27.9         10.7   \n",
       "1   Steve Reynolds  Western Michigan      2002       27.8          6.5   \n",
       "2   Michael Watson              UMKC      2002       24.9          3.6   \n",
       "3     Tyrone Hayes             Idaho      2002       34.3         12.3   \n",
       "4  Travis Robinson      Jacksonville      2002       27.4          7.5   \n",
       "\n",
       "   col_assist  col_steal  col_block  \n",
       "0         0.0        0.0        0.5  \n",
       "1         2.0        1.2        0.1  \n",
       "2         3.2        2.1        0.2  \n",
       "3         0.0        2.5        2.5  \n",
       "4         1.1        1.9        0.3  "
      ]
     },
     "execution_count": 16,
     "metadata": {},
     "output_type": "execute_result"
    }
   ],
   "source": [
    "df_ncaa.head()"
   ]
  },
  {
   "cell_type": "markdown",
   "metadata": {},
   "source": [
    "# Merge NCAA into df_final"
   ]
  },
  {
   "cell_type": "code",
   "execution_count": 17,
   "metadata": {
    "collapsed": true
   },
   "outputs": [],
   "source": [
    "df_final = pd.merge(df_final, df_ncaa, how='inner', on=['player'])\n",
    "df_final = (df_final.drop('college_x', axis=1)\n",
    "               .rename(columns={'college_y': 'college'}))"
   ]
  },
  {
   "cell_type": "code",
   "execution_count": 18,
   "metadata": {
    "collapsed": true
   },
   "outputs": [],
   "source": [
    "# Only keep the last year of college performance\n",
    "df_final = (df_final.groupby('player')\n",
    "        .apply(lambda df: df.sort_values(by='col_year', ascending=False).iloc[0, :]))"
   ]
  },
  {
   "cell_type": "code",
   "execution_count": 19,
   "metadata": {},
   "outputs": [
    {
     "data": {
      "text/html": [
       "<div>\n",
       "<style scoped>\n",
       "    .dataframe tbody tr th:only-of-type {\n",
       "        vertical-align: middle;\n",
       "    }\n",
       "\n",
       "    .dataframe tbody tr th {\n",
       "        vertical-align: top;\n",
       "    }\n",
       "\n",
       "    .dataframe thead th {\n",
       "        text-align: right;\n",
       "    }\n",
       "</style>\n",
       "<table border=\"1\" class=\"dataframe\">\n",
       "  <thead>\n",
       "    <tr style=\"text-align: right;\">\n",
       "      <th></th>\n",
       "      <th>draft_year</th>\n",
       "      <th>league</th>\n",
       "      <th>round</th>\n",
       "      <th>pick</th>\n",
       "      <th>draft_team</th>\n",
       "      <th>player</th>\n",
       "      <th>age</th>\n",
       "      <th>position</th>\n",
       "      <th>born</th>\n",
       "      <th>rookie_team</th>\n",
       "      <th>...</th>\n",
       "      <th>assist</th>\n",
       "      <th>steal</th>\n",
       "      <th>block</th>\n",
       "      <th>college</th>\n",
       "      <th>col_year</th>\n",
       "      <th>col_point</th>\n",
       "      <th>col_rebound</th>\n",
       "      <th>col_assist</th>\n",
       "      <th>col_steal</th>\n",
       "      <th>col_block</th>\n",
       "    </tr>\n",
       "    <tr>\n",
       "      <th>player</th>\n",
       "      <th></th>\n",
       "      <th></th>\n",
       "      <th></th>\n",
       "      <th></th>\n",
       "      <th></th>\n",
       "      <th></th>\n",
       "      <th></th>\n",
       "      <th></th>\n",
       "      <th></th>\n",
       "      <th></th>\n",
       "      <th></th>\n",
       "      <th></th>\n",
       "      <th></th>\n",
       "      <th></th>\n",
       "      <th></th>\n",
       "      <th></th>\n",
       "      <th></th>\n",
       "      <th></th>\n",
       "      <th></th>\n",
       "      <th></th>\n",
       "      <th></th>\n",
       "    </tr>\n",
       "  </thead>\n",
       "  <tbody>\n",
       "    <tr>\n",
       "      <th>A.J. Hammons</th>\n",
       "      <td>2016</td>\n",
       "      <td>NBA</td>\n",
       "      <td>2</td>\n",
       "      <td>46</td>\n",
       "      <td>DAL</td>\n",
       "      <td>A.J. Hammons</td>\n",
       "      <td>23.306</td>\n",
       "      <td>C</td>\n",
       "      <td>us</td>\n",
       "      <td>DAL</td>\n",
       "      <td>...</td>\n",
       "      <td>0.2</td>\n",
       "      <td>0.0</td>\n",
       "      <td>0.6</td>\n",
       "      <td>Purdue</td>\n",
       "      <td>2014</td>\n",
       "      <td>16.6</td>\n",
       "      <td>11.4</td>\n",
       "      <td>0.7</td>\n",
       "      <td>0.6</td>\n",
       "      <td>4.7</td>\n",
       "    </tr>\n",
       "    <tr>\n",
       "      <th>A.J. Price</th>\n",
       "      <td>2009</td>\n",
       "      <td>NBA</td>\n",
       "      <td>2</td>\n",
       "      <td>52</td>\n",
       "      <td>IND</td>\n",
       "      <td>A.J. Price</td>\n",
       "      <td>22.267</td>\n",
       "      <td>G</td>\n",
       "      <td>us</td>\n",
       "      <td>IND</td>\n",
       "      <td>...</td>\n",
       "      <td>1.9</td>\n",
       "      <td>0.6</td>\n",
       "      <td>0.1</td>\n",
       "      <td>Connecticut</td>\n",
       "      <td>2009</td>\n",
       "      <td>17.8</td>\n",
       "      <td>4.2</td>\n",
       "      <td>5.7</td>\n",
       "      <td>0.8</td>\n",
       "      <td>0.0</td>\n",
       "    </tr>\n",
       "    <tr>\n",
       "      <th>Aaron Brooks</th>\n",
       "      <td>2007</td>\n",
       "      <td>NBA</td>\n",
       "      <td>1</td>\n",
       "      <td>26</td>\n",
       "      <td>HOU</td>\n",
       "      <td>Aaron Brooks</td>\n",
       "      <td>22.170</td>\n",
       "      <td>G</td>\n",
       "      <td>us</td>\n",
       "      <td>HOU</td>\n",
       "      <td>...</td>\n",
       "      <td>1.7</td>\n",
       "      <td>0.3</td>\n",
       "      <td>0.1</td>\n",
       "      <td>Oregon</td>\n",
       "      <td>2007</td>\n",
       "      <td>19.2</td>\n",
       "      <td>4.6</td>\n",
       "      <td>4.6</td>\n",
       "      <td>1.5</td>\n",
       "      <td>0.2</td>\n",
       "    </tr>\n",
       "    <tr>\n",
       "      <th>Aaron Gordon</th>\n",
       "      <td>2014</td>\n",
       "      <td>NBA</td>\n",
       "      <td>1</td>\n",
       "      <td>4</td>\n",
       "      <td>ORL</td>\n",
       "      <td>Aaron Gordon</td>\n",
       "      <td>18.288</td>\n",
       "      <td>F</td>\n",
       "      <td>us</td>\n",
       "      <td>ORL</td>\n",
       "      <td>...</td>\n",
       "      <td>0.7</td>\n",
       "      <td>0.4</td>\n",
       "      <td>0.5</td>\n",
       "      <td>Arizona</td>\n",
       "      <td>2014</td>\n",
       "      <td>16.3</td>\n",
       "      <td>10.5</td>\n",
       "      <td>2.6</td>\n",
       "      <td>1.2</td>\n",
       "      <td>1.4</td>\n",
       "    </tr>\n",
       "    <tr>\n",
       "      <th>Aaron Gray</th>\n",
       "      <td>2007</td>\n",
       "      <td>NBA</td>\n",
       "      <td>2</td>\n",
       "      <td>49</td>\n",
       "      <td>CHI</td>\n",
       "      <td>Aaron Gray</td>\n",
       "      <td>22.208</td>\n",
       "      <td>C</td>\n",
       "      <td>us</td>\n",
       "      <td>CHI</td>\n",
       "      <td>...</td>\n",
       "      <td>0.7</td>\n",
       "      <td>0.3</td>\n",
       "      <td>0.3</td>\n",
       "      <td>Pittsburgh</td>\n",
       "      <td>2007</td>\n",
       "      <td>20.5</td>\n",
       "      <td>14.0</td>\n",
       "      <td>2.5</td>\n",
       "      <td>0.6</td>\n",
       "      <td>2.5</td>\n",
       "    </tr>\n",
       "  </tbody>\n",
       "</table>\n",
       "<p>5 rows × 23 columns</p>\n",
       "</div>"
      ],
      "text/plain": [
       "              draft_year league  round  pick draft_team        player     age  \\\n",
       "player                                                                          \n",
       "A.J. Hammons        2016    NBA      2    46        DAL  A.J. Hammons  23.306   \n",
       "A.J. Price          2009    NBA      2    52        IND    A.J. Price  22.267   \n",
       "Aaron Brooks        2007    NBA      1    26        HOU  Aaron Brooks  22.170   \n",
       "Aaron Gordon        2014    NBA      1     4        ORL  Aaron Gordon  18.288   \n",
       "Aaron Gray          2007    NBA      2    49        CHI    Aaron Gray  22.208   \n",
       "\n",
       "             position born rookie_team    ...      assist  steal  block  \\\n",
       "player                                    ...                             \n",
       "A.J. Hammons        C   us         DAL    ...         0.2    0.0    0.6   \n",
       "A.J. Price          G   us         IND    ...         1.9    0.6    0.1   \n",
       "Aaron Brooks        G   us         HOU    ...         1.7    0.3    0.1   \n",
       "Aaron Gordon        F   us         ORL    ...         0.7    0.4    0.5   \n",
       "Aaron Gray          C   us         CHI    ...         0.7    0.3    0.3   \n",
       "\n",
       "                  college  col_year  col_point col_rebound  col_assist  \\\n",
       "player                                                                   \n",
       "A.J. Hammons       Purdue      2014       16.6        11.4         0.7   \n",
       "A.J. Price    Connecticut      2009       17.8         4.2         5.7   \n",
       "Aaron Brooks       Oregon      2007       19.2         4.6         4.6   \n",
       "Aaron Gordon      Arizona      2014       16.3        10.5         2.6   \n",
       "Aaron Gray     Pittsburgh      2007       20.5        14.0         2.5   \n",
       "\n",
       "              col_steal  col_block  \n",
       "player                              \n",
       "A.J. Hammons        0.6        4.7  \n",
       "A.J. Price          0.8        0.0  \n",
       "Aaron Brooks        1.5        0.2  \n",
       "Aaron Gordon        1.2        1.4  \n",
       "Aaron Gray          0.6        2.5  \n",
       "\n",
       "[5 rows x 23 columns]"
      ]
     },
     "execution_count": 19,
     "metadata": {},
     "output_type": "execute_result"
    }
   ],
   "source": [
    "df_final.head()"
   ]
  },
  {
   "cell_type": "code",
   "execution_count": 20,
   "metadata": {},
   "outputs": [
    {
     "name": "stdout",
     "output_type": "stream",
     "text": [
      "Number of unique players 613, teams 37, college 153, year 18\n"
     ]
    }
   ],
   "source": [
    "print(\"Number of unique players {}, teams {}, college {}, year {}\"\n",
    "          .format(len(pd.unique(df_final.player)),\n",
    "                  len(pd.unique(df_final.rookie_team)),\n",
    "                  len(pd.unique(df_final.college)),\n",
    "                  len(pd.unique(df_final.rookie_year))))"
   ]
  },
  {
   "cell_type": "markdown",
   "metadata": {},
   "source": [
    "# Merge NCAA team into df_final"
   ]
  },
  {
   "cell_type": "code",
   "execution_count": 21,
   "metadata": {},
   "outputs": [],
   "source": [
    "df_final = df_final.replace({'college': {'Arkansas LR': 'Arkansas-Little Rock',\n",
    "                                'BYU': 'Brigham Young',\n",
    "                                'Bowling Green': 'Bowling Green State',\n",
    "                                'CS-Fullerton': 'Cal State Fullerton',\n",
    "                                'California': 'University of California',\n",
    "                                'Central Conn.': 'Central Connecticut State',\n",
    "                                'Cleveland St.': 'Cleveland State',\n",
    "                                'Coll of Charltn': 'College of Charleston',\n",
    "                                'Detroit': 'Detroit Mercy',\n",
    "                                'East Tenn. St.': 'East Tennessee State',\n",
    "                                'Eastern Wash.': 'Eastern Washington',\n",
    "                                'Geo Washington': 'George Washington',\n",
    "                                'LSU': 'Louisiana State',\n",
    "                                'La Lafayette': 'Lafayette',\n",
    "                                'Louisiana Monroe': 'Louisiana-Monroe',\n",
    "                                'Miami FL': 'Miami (FL)',\n",
    "                                'Mississippi St.': 'Mississippi State',\n",
    "                                'N.C. State': 'North Carolina State',\n",
    "                                \"Saint Mary's\": \"Saint Mary's (CA)\",\n",
    "                                'South Dakota St': 'South Dakota',\n",
    "                                \"St. John's\": \"St. John's (NY)\",\n",
    "                                'Tenn. Martin': 'Tennessee-Martin',\n",
    "                                'UAB': 'Alabama-Birmingham',\n",
    "                                'UC Santa Barbara': 'UC-Santa Barbara',\n",
    "                                'UMKC': 'Missouri-Kansas City',\n",
    "                                'UNLV': 'Nevada-Last Vegas',\n",
    "                                'USC': 'Souther California',\n",
    "                                'UTEP': 'Texas-El Paso',\n",
    "                                'VCU': 'Virginia Commonwealth',\n",
    "                                'Wisc. Green Bay': 'Green Bay'}})"
   ]
  },
  {
   "cell_type": "code",
   "execution_count": 22,
   "metadata": {
    "collapsed": true
   },
   "outputs": [],
   "source": [
    "df_college_raw = pd.read_csv(\"../data/team_data.csv\", index_col=0, skiprows=[0])"
   ]
  },
  {
   "cell_type": "code",
   "execution_count": 23,
   "metadata": {
    "collapsed": true
   },
   "outputs": [],
   "source": [
    "df_college = (df_college_raw\n",
    "                  [['School', 'Season', 'W-L%', 'Tm.', 'Opp.', 'TRB', 'AST', 'STL', 'BLK']]\n",
    "                  .rename(columns={'School': 'college', 'Season': 'col_year',\n",
    "                                   'W-L%': 'team_win_percentage',\n",
    "                                   'Tm.': 'team_point', 'Opp.': 'team_opponent_point', \n",
    "                                   'TRB': 'team_rebound', 'AST': 'team_assist',\n",
    "                                   'STL': 'team_steal', 'BLK': 'team_block'})\n",
    "                  .assign(col_year = lambda x: x.col_year.str.split('-').str.get(0).astype(float),\n",
    "                          college = lambda x: x.college.str.replace(' NCAA', ''))\n",
    "                  .replace({'college': {'Arkansas-Little Rock': 'Arkansas LR'}}))"
   ]
  },
  {
   "cell_type": "code",
   "execution_count": 24,
   "metadata": {
    "scrolled": true
   },
   "outputs": [],
   "source": [
    "df_final = pd.merge(df_final, df_college, how='left', on=['college', 'col_year'])"
   ]
  },
  {
   "cell_type": "markdown",
   "metadata": {},
   "source": [
    "# Visualization"
   ]
  },
  {
   "cell_type": "markdown",
   "metadata": {},
   "source": [
    "Players always perform much better in college than in the NBA. There is a positive relationship, but not really strong."
   ]
  },
  {
   "cell_type": "code",
   "execution_count": 25,
   "metadata": {},
   "outputs": [
    {
     "data": {
      "image/png": "[encoded data removed]",
      "text/plain": [
       "<matplotlib.figure.Figure at 0x1033f9a90>"
      ]
     },
     "metadata": {},
     "output_type": "display_data"
    }
   ],
   "source": [
    "def add_identity(axes, *line_args, **line_kwargs):\n",
    "    identity, = axes.plot([], [], *line_args, **line_kwargs)\n",
    "    def callback(axes):\n",
    "        low_x, high_x = axes.get_xlim()\n",
    "        low_y, high_y = axes.get_ylim()\n",
    "        low = max(low_x, low_y)\n",
    "        high = min(high_x, high_y)\n",
    "        identity.set_data([low, high], [low, high])\n",
    "    callback(axes)\n",
    "    axes.callbacks.connect('xlim_changed', callback)\n",
    "    axes.callbacks.connect('ylim_changed', callback)\n",
    "    return axes\n",
    "\n",
    "vars = ['point', 'rebound', 'assist', 'block', 'steal']\n",
    "fig, ax = plt.subplots(nrows=2, ncols=3, figsize=(10, 5))\n",
    "for r in range(len(ax)):\n",
    "    for c in range(len(ax[0])):\n",
    "        i = r * 3 + c\n",
    "        try:\n",
    "            ax[r][c].scatter(df_final['col_' + vars[i]], df_final[vars[i]])\n",
    "            add_identity(ax[r][c], color='r')\n",
    "            ax[r][c].set_title(vars[i])\n",
    "            ax[r][c].set_xlabel('college')\n",
    "            ax[r][c].set_ylabel('NBA')\n",
    "        except:\n",
    "            pass"
   ]
  },
  {
   "cell_type": "markdown",
   "metadata": {},
   "source": [
    "# Model building (without team)"
   ]
  },
  {
   "cell_type": "code",
   "execution_count": 26,
   "metadata": {},
   "outputs": [
    {
     "name": "stdout",
     "output_type": "stream",
     "text": [
      "Before shape (613, 7)\n",
      "After shape (538, 7)\n",
      "Min / Median / Max of Point: 0.0 4.4 22.5\n"
     ]
    }
   ],
   "source": [
    "df_final2 = (df_final[['player', 'point', 'position',\n",
    "                      'col_point', 'col_rebound', 'col_assist', 'col_steal', 'col_block']]\n",
    "                .set_index('player'))\n",
    "print(\"Before shape {}\".format(df_final2.shape))\n",
    "df_final2 = df_final2.dropna() # Drop all missing values\n",
    "print(\"After shape {}\".format(df_final2.shape))\n",
    "\n",
    "X = pd.get_dummies(df_final2.drop(['point'], axis=1), columns=['position'])\n",
    "y = df_final2['point']\n",
    "X_train, X_test, y_train, y_test = train_test_split(X, y, test_size = 0.2)\n",
    "\n",
    "print(\"Min / Median / Max of Point: {} {} {}\".format(np.min(df_final2.point),\n",
    "                                                     np.median(df_final2.point),\n",
    "                                                     np.max(df_final2.point)))"
   ]
  },
  {
   "cell_type": "code",
   "execution_count": 27,
   "metadata": {},
   "outputs": [
    {
     "name": "stdout",
     "output_type": "stream",
     "text": [
      "Best random forest: {'min_samples_leaf': 10, 'n_estimators': 100}\n",
      "Train MSE: 3.010; Test MSE: 4.780\n"
     ]
    },
    {
     "data": {
      "text/plain": [
       "RandomForestRegressor(bootstrap=True, criterion='mse', max_depth=None,\n",
       "           max_features='auto', max_leaf_nodes=None,\n",
       "           min_impurity_decrease=0.0, min_impurity_split=None,\n",
       "           min_samples_leaf=10, min_samples_split=2,\n",
       "           min_weight_fraction_leaf=0.0, n_estimators=100, n_jobs=-1,\n",
       "           oob_score=False, random_state=None, verbose=0, warm_start=False)"
      ]
     },
     "execution_count": 27,
     "metadata": {},
     "output_type": "execute_result"
    }
   ],
   "source": [
    "rf = RandomForestRegressor(criterion='mse', n_jobs=-1)\n",
    "gs = GridSearchCV(estimator=rf, \n",
    "                  param_grid=[{'n_estimators': [100, 1000, 1000],\n",
    "                               'min_samples_leaf': [1, 10, 100]}],\n",
    "                  cv=10, scoring='neg_mean_squared_error')\n",
    "gs.fit(X_train, y_train)\n",
    "print(\"Best random forest:\", gs.best_params_)\n",
    "best_rf = gs.best_estimator_\n",
    "best_rf.fit(X_train, y_train)\n",
    "\n",
    "print(\"Train MSE: {:.3f}; Test MSE: {:.3f}\".format(np.sqrt(mean_squared_error(y_train, best_rf.predict(X_train))),\n",
    "                                                   np.sqrt(mean_squared_error(y_test, best_rf.predict(X_test)))))\n",
    "\n",
    "# Final fit on all data\n",
    "best_rf.fit(X, y)"
   ]
  },
  {
   "cell_type": "code",
   "execution_count": 28,
   "metadata": {},
   "outputs": [
    {
     "name": "stdout",
     "output_type": "stream",
     "text": [
      "Best nearest neighbor: {'n_neighbors': 10}\n",
      "Train MSE: 3.348; Test MSE: 5.029\n"
     ]
    },
    {
     "data": {
      "text/plain": [
       "KNeighborsRegressor(algorithm='auto', leaf_size=30, metric='minkowski',\n",
       "          metric_params=None, n_jobs=-1, n_neighbors=10, p=2,\n",
       "          weights='uniform')"
      ]
     },
     "execution_count": 28,
     "metadata": {},
     "output_type": "execute_result"
    }
   ],
   "source": [
    "nn = KNeighborsRegressor(n_jobs=-1)\n",
    "gs = GridSearchCV(estimator=nn,\n",
    "                  param_grid=[{'n_neighbors': [2, 5, 10]}])\n",
    "gs.fit(X_train, y_train)\n",
    "best_nn = gs.best_estimator_\n",
    "print(\"Best nearest neighbor:\", gs.best_params_)\n",
    "best_nn.fit(X_train, y_train)\n",
    "\n",
    "print(\"Train MSE: {:.3f}; Test MSE: {:.3f}\".format(np.sqrt(mean_squared_error(y_train, best_nn.predict(X_train))),\n",
    "                                                   np.sqrt(mean_squared_error(y_test, best_nn.predict(X_test)))))\n",
    "\n",
    "# Final fit on all data\n",
    "best_nn.fit(X, y)\n",
    "pickle.dump(X,\n",
    "            open(os.path.join(dest, 'training_data.pkl'), 'wb'),\n",
    "            protocol=4)"
   ]
  },
  {
   "cell_type": "markdown",
   "metadata": {},
   "source": [
    "# Model building (with team)"
   ]
  },
  {
   "cell_type": "code",
   "execution_count": 30,
   "metadata": {},
   "outputs": [
    {
     "name": "stdout",
     "output_type": "stream",
     "text": [
      "Before shape (613, 14)\n",
      "After shape (526, 14)\n",
      "Min / Median / Max of Point: 0.0 4.4 22.5\n"
     ]
    }
   ],
   "source": [
    "df_final3 = (df_final[['player', 'college', 'point', 'position',\n",
    "              'col_point', 'col_rebound', 'col_assist', 'col_steal', 'col_block',\n",
    "              'team_win_percentage', 'team_point', 'team_opponent_point', 'team_rebound',\n",
    "              'team_assist', 'team_steal', 'team_block']]\n",
    "                 .set_index(['player', 'college']))\n",
    "print(\"Before shape {}\".format(df_final3.shape))\n",
    "df_final3 = df_final3.dropna() # Drop all missing values\n",
    "print(\"After shape {}\".format(df_final3.shape))\n",
    "\n",
    "X = pd.get_dummies(df_final3.drop('point', axis=1), columns=['position'])\n",
    "y = df_final3['point']\n",
    "X_train, X_test, y_train, y_test = train_test_split(X, y, test_size = 0.2)\n",
    "\n",
    "print(\"Min / Median / Max of Point: {} {} {}\".format(np.min(df_final3.point),\n",
    "                                                     np.median(df_final3.point),\n",
    "                                                     np.max(df_final3.point)))"
   ]
  },
  {
   "cell_type": "code",
   "execution_count": 35,
   "metadata": {},
   "outputs": [
    {
     "name": "stdout",
     "output_type": "stream",
     "text": [
      "{'min_samples_leaf': 10, 'n_estimators': 1000}\n",
      "Train RMSE: 2.996; Test RMSE: 3.939\n"
     ]
    },
    {
     "data": {
      "text/plain": [
       "RandomForestRegressor(bootstrap=True, criterion='mse', max_depth=None,\n",
       "           max_features='auto', max_leaf_nodes=None,\n",
       "           min_impurity_decrease=0.0, min_impurity_split=None,\n",
       "           min_samples_leaf=10, min_samples_split=2,\n",
       "           min_weight_fraction_leaf=0.0, n_estimators=1000, n_jobs=-1,\n",
       "           oob_score=False, random_state=None, verbose=0, warm_start=False)"
      ]
     },
     "execution_count": 35,
     "metadata": {},
     "output_type": "execute_result"
    }
   ],
   "source": [
    "rf = RandomForestRegressor(criterion='mse', n_jobs=-1)\n",
    "gs = GridSearchCV(estimator=rf, \n",
    "                  param_grid=[{'n_estimators': [100, 1000, 1000],\n",
    "                               'min_samples_leaf': [1, 10, 100]}],\n",
    "                  cv=10, scoring='neg_mean_squared_error')\n",
    "gs.fit(X_train, y_train)\n",
    "print(gs.best_params_)\n",
    "best_rf_team = gs.best_estimator_\n",
    "best_rf_team.fit(X_train, y_train)\n",
    "\n",
    "print(\"Train RMSE: {:.3f}; Test RMSE: {:.3f}\".format(np.sqrt(mean_squared_error(y_train, best_rf_team.predict(X_train))),\n",
    "                                                     np.sqrt(mean_squared_error(y_test, best_rf_team.predict(X_test)))))\n",
    "\n",
    "# Train on all data\n",
    "best_rf_team.fit(X, y)"
   ]
  },
  {
   "cell_type": "code",
   "execution_count": 34,
   "metadata": {},
   "outputs": [
    {
     "name": "stdout",
     "output_type": "stream",
     "text": [
      "Best nearest neighbor: {'n_neighbors': 10}\n",
      "Train MSE: 3.628; Test MSE: 4.223\n"
     ]
    },
    {
     "data": {
      "text/plain": [
       "KNeighborsRegressor(algorithm='auto', leaf_size=30, metric='minkowski',\n",
       "          metric_params=None, n_jobs=-1, n_neighbors=10, p=2,\n",
       "          weights='uniform')"
      ]
     },
     "execution_count": 34,
     "metadata": {},
     "output_type": "execute_result"
    }
   ],
   "source": [
    "nn = KNeighborsRegressor(n_jobs=-1)\n",
    "gs = GridSearchCV(estimator=nn,\n",
    "                  param_grid=[{'n_neighbors': [2, 5, 10]}])\n",
    "gs.fit(X_train, y_train)\n",
    "best_nn_team = gs.best_estimator_\n",
    "print(\"Best nearest neighbor:\", gs.best_params_)\n",
    "best_nn_team.fit(X_train, y_train)\n",
    "\n",
    "print(\"Train MSE: {:.3f}; Test MSE: {:.3f}\".format(np.sqrt(mean_squared_error(y_train, best_nn_team.predict(X_train))),\n",
    "                                                   np.sqrt(mean_squared_error(y_test, best_nn_team.predict(X_test)))))\n",
    "\n",
    "# Final fit on all data\n",
    "best_nn_team.fit(X, y)\n",
    "pickle.dump(X,\n",
    "           open(os.path.join(dest, 'training_data_team.pkl'), 'wb'),\n",
    "           protocol=4)"
   ]
  },
  {
   "cell_type": "markdown",
   "metadata": {
    "collapsed": true
   },
   "source": [
    "# Serialize the model"
   ]
  },
  {
   "cell_type": "code",
   "execution_count": null,
   "metadata": {
    "collapsed": true
   },
   "outputs": [],
   "source": [
    "dest = os.path.join('../model')\n",
    "if not os.path.exists(dest):\n",
    "    os.makedirs(dest)\n",
    "    \n",
    "pickle.dump(best_rf,\n",
    "           open(os.path.join(dest, 'randomforest.pkl'), 'wb'),\n",
    "           protocol=4)\n",
    "pickle.dump(best_rf_team,\n",
    "           open(os.path.join(dest, 'randomforest_team.pkl'), 'wb'),\n",
    "           protocol=4)\n",
    "pickle.dump(best_nn,\n",
    "           open(os.path.join(dest, 'nearestneighbor.pkl'), 'wb'),\n",
    "           protocol=4)\n",
    "pickle.dump(best_nn_team,\n",
    "           open(os.path.join(dest, 'nearestneighbor_team.pkl'), 'wb'),\n",
    "           protocol=4)"
   ]
  }
 ],
 "metadata": {
  "kernelspec": {
   "display_name": "Python 3",
   "language": "python",
   "name": "python3"
  },
  "language_info": {
   "codemirror_mode": {
    "name": "ipython",
    "version": 3
   },
   "file_extension": ".py",
   "mimetype": "text/x-python",
   "name": "python",
   "nbconvert_exporter": "python",
   "pygments_lexer": "ipython3",
   "version": "3.6.3"
  }
 },
 "nbformat": 4,
 "nbformat_minor": 2
}
